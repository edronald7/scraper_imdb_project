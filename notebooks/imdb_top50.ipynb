{
 "cells": [
  {
   "cell_type": "code",
   "execution_count": 57,
   "id": "b31692da-b8af-428e-b591-bfba4717f5f6",
   "metadata": {},
   "outputs": [],
   "source": [
    "import re\n",
    "import json\n",
    "from bs4 import BeautifulSoup\n",
    "import requests\n",
    "from fake_useragent import UserAgent"
   ]
  },
  {
   "cell_type": "code",
   "execution_count": 58,
   "id": "fc95d70b-4957-4f75-bc77-8fe907cf2639",
   "metadata": {},
   "outputs": [],
   "source": [
    "url_top = \"https://www.imdb.com/es/chart/top/\""
   ]
  },
  {
   "cell_type": "code",
   "execution_count": 11,
   "id": "8f2713bb-eed7-4363-9bc1-f97b10215ae2",
   "metadata": {},
   "outputs": [
    {
     "data": {
      "text/plain": [
       "'Mozilla/5.0 (iPhone; CPU iPhone OS 18_3_2 like Mac OS X) AppleWebKit/605.1.15 (KHTML, like Gecko) Version/18.3.1 Mobile/15E148 Safari/604.1'"
      ]
     },
     "execution_count": 11,
     "metadata": {},
     "output_type": "execute_result"
    }
   ],
   "source": [
    "UserAgent().random"
   ]
  },
  {
   "cell_type": "code",
   "execution_count": 12,
   "id": "332f995b-381c-49c7-8e14-9f59244a6f88",
   "metadata": {},
   "outputs": [
    {
     "name": "stdout",
     "output_type": "stream",
     "text": [
      "Page Title: Las 250 mejores películas de IMDb\n"
     ]
    }
   ],
   "source": [
    "response = requests.get(url_top, headers = {\n",
    "    'User-Agent': UserAgent().random\n",
    "})\n",
    "response.raise_for_status()\n",
    "soup = BeautifulSoup(response.text, 'html.parser')\n",
    "print(f\"Page Title: {soup.title.string}\")"
   ]
  },
  {
   "cell_type": "code",
   "execution_count": 23,
   "id": "dfd182d9-fd16-4864-8098-52352495f4c1",
   "metadata": {},
   "outputs": [
    {
     "data": {
      "text/plain": [
       "25"
      ]
     },
     "execution_count": 23,
     "metadata": {},
     "output_type": "execute_result"
    }
   ],
   "source": [
    "list_li = []\n",
    "for ul_tag in soup.find_all('ul', class_='ipc-metadata-list'):\n",
    "    list_li.extend(ul_tag.find_all('li', class_='ipc-metadata-list-summary-item'))\n",
    "\n",
    "len(list_li)"
   ]
  },
  {
   "cell_type": "code",
   "execution_count": 24,
   "id": "5a57c95e-2db5-4b3a-80c2-f0f1fdff9b39",
   "metadata": {},
   "outputs": [
    {
     "data": {
      "text/plain": [
       "25"
      ]
     },
     "execution_count": 24,
     "metadata": {},
     "output_type": "execute_result"
    }
   ],
   "source": [
    "len(list_li)"
   ]
  },
  {
   "cell_type": "code",
   "execution_count": 44,
   "id": "477ca300-a1b2-4edc-9513-c4890f8dbe27",
   "metadata": {},
   "outputs": [
    {
     "data": {
      "text/plain": [
       "250"
      ]
     },
     "execution_count": 44,
     "metadata": {},
     "output_type": "execute_result"
    }
   ],
   "source": [
    "script_tag = soup.find(\n",
    "    'script',\n",
    "    type='application/ld+json',\n",
    "    string=lambda text: text and 'ItemList' in text\n",
    ")\n",
    "\n",
    "if not script_tag:\n",
    "    # En Beautiful Soup, puedes simplemente imprimir o retornar None/manejar el error.\n",
    "    # No hay un logger integrado como en Scrapy.\n",
    "    print(\"Error: No se encontró el bloque ItemList JSON-LD\")\n",
    "\n",
    "# Obtenemos el texto dentro del tag script\n",
    "list_json_str = script_tag.string\n",
    "\n",
    "try:\n",
    "    data = json.loads(list_json_str).get(\"itemListElement\")\n",
    "    #print(f\"len(data) : {len(data.get(\"itemListElement\"))}\")\n",
    "except json.JSONDecodeError as e:\n",
    "    print(f\"Error al parsear JSON: {e}\")\n",
    "\n",
    "# Accedemos a los elementos de la lista, similar a tu código Scrapy\n",
    "# Tomamos solo el primer elemento [:1] para este ejemplo.\n",
    "# En un caso real, podrías iterar sobre todos o tomar más.\n",
    "list_movies = []\n",
    "for elem in data:\n",
    "    movie = elem[\"item\"]\n",
    "    list_movies.append({\n",
    "        'url': movie['url'],\n",
    "        'name': movie['name'],\n",
    "        'duration': movie['duration'],\n",
    "        \"rating\": float(movie[\"aggregateRating\"][\"ratingValue\"]) if \"aggregateRating\" in movie else None,\n",
    "        \"duration_iso\": movie[\"duration\"],\n",
    "    })\n",
    "\n",
    "len(list_movies)"
   ]
  },
  {
   "cell_type": "code",
   "execution_count": 47,
   "id": "512bd861-7718-400e-9d94-f5ddce0e8983",
   "metadata": {},
   "outputs": [
    {
     "data": {
      "text/plain": [
       "{'url': 'https://www.imdb.com/es/title/tt0111161/',\n",
       " 'name': 'The Shawshank Redemption',\n",
       " 'duration': 'PT2H22M',\n",
       " 'rating': 9.3,\n",
       " 'duration_iso': 'PT2H22M'}"
      ]
     },
     "execution_count": 47,
     "metadata": {},
     "output_type": "execute_result"
    }
   ],
   "source": [
    "list_movies[0]"
   ]
  },
  {
   "cell_type": "code",
   "execution_count": 67,
   "id": "464fff8a-9a1f-4913-85f2-c4d6cae572d1",
   "metadata": {},
   "outputs": [
    {
     "name": "stdout",
     "output_type": "stream",
     "text": [
      "len ul anio 1  texto:  Fecha de lanzamiento23 de septiembre de 1994 (México)\n",
      "Año encontrado: 1994\n",
      "metascore: 82\n",
      "18 actores\n",
      "[{'movie_title': 'The Shawshank Redemption', 'actor_name': 'Tim Robbins', 'position_order': 1}, {'movie_title': 'The Shawshank Redemption', 'actor_name': 'Morgan Freeman', 'position_order': 2}, {'movie_title': 'The Shawshank Redemption', 'actor_name': 'Bob Gunton', 'position_order': 3}]\n"
     ]
    }
   ],
   "source": [
    "for mov in list_movies[:1]:\n",
    "    res_mov = requests.get(mov['url'], headers = {\n",
    "        'User-Agent': UserAgent().random\n",
    "    })\n",
    "    soup_mov = BeautifulSoup(res_mov.text, 'html.parser')\n",
    "    \n",
    "    list_inf_li = []\n",
    "    for ul_tag in soup_mov.find_all('ul', class_='ipc-metadata-list'):\n",
    "        list_inf_li.extend(ul_tag.find_all('li', class_='ipc-metadata-list__item', attrs={\"data-testid\": \"title-details-releasedate\"}))\n",
    "    \n",
    "    text_from_tag = list_inf_li[0].get_text()\n",
    "    print(\"len ul anio\", len(list_inf_li), \" texto: \", text_from_tag)\n",
    "    year_pattern = r'\\d{4}'\n",
    "\n",
    "    # Buscar el patrón en el texto\n",
    "    match = re.search(year_pattern, text_from_tag)\n",
    "    year = None\n",
    "    if match:\n",
    "        year = match.group(0) # .group(0) devuelve la cadena que coincidió\n",
    "        print(f\"Año encontrado: {year}\")\n",
    "    \n",
    "    span_score = None\n",
    "    for score in soup_mov.find_all('span', class_='metacritic-score-box'):\n",
    "        span_score = score.get_text().strip()\n",
    "        break\n",
    "    print(f\"metascore: {span_score}\")\n",
    "    mov['year'] = year\n",
    "    mov['metascore'] = span_score\n",
    "\n",
    "    seccion_cast = soup_mov.find('section', attrs={\"data-testid\": \"title-cast\"})\n",
    "    actors_tag = []\n",
    "    if seccion_cast:\n",
    "        for pos, cast_tag in enumerate(seccion_cast.find_all('div', attrs={\"data-testid\": \"title-cast-item\"}), start=1):\n",
    "            actor_name = cast_tag.find('a', attrs={\"data-testid\": \"title-cast-item__actor\"}).text\n",
    "            actors_tag.append({\n",
    "                \"movie_title\": mov['name'],\n",
    "                \"actor_name\": actor_name.strip(),\n",
    "                \"position_order\": pos\n",
    "            })\n",
    "    print(len(actors_tag), \"actores\")\n",
    "    print(actors_tag[:3])"
   ]
  },
  {
   "cell_type": "code",
   "execution_count": 68,
   "id": "dfea28c3-82eb-4dfc-9045-1d5cedca7e25",
   "metadata": {},
   "outputs": [
    {
     "data": {
      "text/plain": [
       "{'url': 'https://www.imdb.com/es/title/tt0111161/',\n",
       " 'name': 'The Shawshank Redemption',\n",
       " 'duration': 'PT2H22M',\n",
       " 'rating': 9.3,\n",
       " 'duration_iso': 'PT2H22M',\n",
       " 'year': '1994',\n",
       " 'metascore': '82'}"
      ]
     },
     "execution_count": 68,
     "metadata": {},
     "output_type": "execute_result"
    }
   ],
   "source": [
    "list_movies[0]"
   ]
  },
  {
   "cell_type": "code",
   "execution_count": null,
   "id": "37ce1045-e3c4-4104-a846-b42aa07210cc",
   "metadata": {},
   "outputs": [],
   "source": []
  },
  {
   "cell_type": "code",
   "execution_count": null,
   "id": "b87ff1fd-ac79-433f-a124-6e6dc61539cb",
   "metadata": {},
   "outputs": [],
   "source": []
  }
 ],
 "metadata": {
  "kernelspec": {
   "display_name": "Python 3 (ipykernel)",
   "language": "python",
   "name": "python3"
  },
  "language_info": {
   "codemirror_mode": {
    "name": "ipython",
    "version": 3
   },
   "file_extension": ".py",
   "mimetype": "text/x-python",
   "name": "python",
   "nbconvert_exporter": "python",
   "pygments_lexer": "ipython3",
   "version": "3.13.5"
  }
 },
 "nbformat": 4,
 "nbformat_minor": 5
}
